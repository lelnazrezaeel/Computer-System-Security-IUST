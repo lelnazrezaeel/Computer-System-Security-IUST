{
  "cells": [
    {
      "cell_type": "markdown",
      "metadata": {
        "id": "SBcci87nxqDX"
      },
      "source": [
        "<h1>\n",
        "<font color=\"#faf200\">AES</font>\n",
        "</h1>"
      ]
    },
    {
      "cell_type": "code",
      "source": [
        "!pip3 install pycryptodome"
      ],
      "metadata": {
        "colab": {
          "base_uri": "https://localhost:8080/"
        },
        "id": "ZATuJs72Pt6B",
        "outputId": "8facf80c-7281-4202-f470-9043cecaecb0"
      },
      "execution_count": 3,
      "outputs": [
        {
          "output_type": "stream",
          "name": "stdout",
          "text": [
            "Looking in indexes: https://pypi.org/simple, https://us-python.pkg.dev/colab-wheels/public/simple/\n",
            "Collecting pycryptodome\n",
            "  Downloading pycryptodome-3.17-cp35-abi3-manylinux_2_17_x86_64.manylinux2014_x86_64.whl (2.1 MB)\n",
            "\u001b[2K     \u001b[90m━━━━━━━━━━━━━━━━━━━━━━━━━━━━━━━━━━━━━━━━\u001b[0m \u001b[32m2.1/2.1 MB\u001b[0m \u001b[31m21.9 MB/s\u001b[0m eta \u001b[36m0:00:00\u001b[0m\n",
            "\u001b[?25hInstalling collected packages: pycryptodome\n",
            "Successfully installed pycryptodome-3.17\n"
          ]
        }
      ]
    },
    {
      "cell_type": "code",
      "execution_count": 4,
      "metadata": {
        "id": "uxSgxYPmxqDa"
      },
      "outputs": [],
      "source": [
        "from Crypto.Cipher import AES\n",
        "from Crypto.Random import get_random_bytes"
      ]
    },
    {
      "cell_type": "markdown",
      "metadata": {
        "id": "8F7kJG_pxqDb"
      },
      "source": [
        "<h2>\n",
        "<font color=\"#ad41fa\">Create a random key</font>\n",
        "</h2>"
      ]
    },
    {
      "cell_type": "code",
      "execution_count": 5,
      "metadata": {
        "id": "NegGx3fRxqDb"
      },
      "outputs": [],
      "source": [
        "key = get_random_bytes(16)"
      ]
    },
    {
      "cell_type": "markdown",
      "source": [
        "<h2>\n",
        "<font color=\"#ad41fa\">The message to be encrypted</font>\n",
        "</h2>"
      ],
      "metadata": {
        "id": "NcFps8B_Qxyz"
      }
    },
    {
      "cell_type": "code",
      "source": [
        "message = input('Enter your message: ')"
      ],
      "metadata": {
        "colab": {
          "base_uri": "https://localhost:8080/"
        },
        "id": "MyL9BLx2QzHb",
        "outputId": "20d77257-f346-48cb-ebe5-08f32ba3b6c6"
      },
      "execution_count": 10,
      "outputs": [
        {
          "name": "stdout",
          "output_type": "stream",
          "text": [
            "Enter your message: I love Security\n"
          ]
        }
      ]
    },
    {
      "cell_type": "markdown",
      "source": [
        "<h2>\n",
        "<font color=\"#ad41fa\">Create an object of class AES using random key</font>\n",
        "</h2>"
      ],
      "metadata": {
        "id": "YJij93Gv3QQf"
      }
    },
    {
      "cell_type": "code",
      "source": [
        "cipher = AES.new(key, AES.MODE_EAX)"
      ],
      "metadata": {
        "id": "teY55FvB3R3v"
      },
      "execution_count": 6,
      "outputs": []
    },
    {
      "cell_type": "markdown",
      "metadata": {
        "id": "9-Y3wT3ixqDc"
      },
      "source": [
        "<h2>\n",
        "<font color=\"#ad41fa\">Encrypting messages and receiving metadata</font>\n",
        "</h2>"
      ]
    },
    {
      "cell_type": "code",
      "execution_count": 11,
      "metadata": {
        "id": "1fPNjnYNxqDc"
      },
      "outputs": [],
      "source": [
        "ciphertext, tag = cipher.encrypt_and_digest(message.encode('utf8'))"
      ]
    },
    {
      "cell_type": "markdown",
      "metadata": {
        "id": "e9IzOL94xqDc"
      },
      "source": [
        "<h2>\n",
        "<font color=\"#ad41fa\">Print metadata and encrypted message</font>\n",
        "</h2>"
      ]
    },
    {
      "cell_type": "code",
      "execution_count": 12,
      "metadata": {
        "id": "a5VErw57xqDc",
        "colab": {
          "base_uri": "https://localhost:8080/"
        },
        "outputId": "e217e492-a9d0-46f3-dc6b-05fef56a07b3"
      },
      "outputs": [
        {
          "output_type": "stream",
          "name": "stdout",
          "text": [
            "ciphertext: b'o\\xe8P\\xe8\\x13\\x89\\xcf\\x11\\xebDn\\x13\\xfc?\\xc0'\n",
            "tag: b'\\xd2\\xc7\\x0cn\\x8d\\x0bz\\xcb\\x8e\\x8f*o\\xbd\\x03\\xca,'\n"
          ]
        }
      ],
      "source": [
        "print(\"ciphertext:\", ciphertext)\n",
        "print(\"tag:\", tag)"
      ]
    },
    {
      "cell_type": "markdown",
      "metadata": {
        "id": "oTTdiEKvxqDd"
      },
      "source": [
        "<h2>\n",
        "<font color=\"#ad41fa\">Decrypt message using key and metadata</font>\n",
        "</h2>"
      ]
    },
    {
      "cell_type": "code",
      "execution_count": 13,
      "metadata": {
        "id": "frxVFAe3xqDd"
      },
      "outputs": [],
      "source": [
        "decipher = AES.new(key, AES.MODE_EAX, cipher.nonce)\n",
        "plaintext = decipher.decrypt(ciphertext)"
      ]
    },
    {
      "cell_type": "markdown",
      "metadata": {
        "id": "69uWjWUZxqDe"
      },
      "source": [
        "<h2>\n",
        "<font color=\"#ad41fa\">Verifying the authenticity of the message using metadata</font>\n",
        "</h2>"
      ]
    },
    {
      "cell_type": "code",
      "execution_count": 14,
      "metadata": {
        "id": "ufVPQOcTxqDe",
        "colab": {
          "base_uri": "https://localhost:8080/"
        },
        "outputId": "864bad97-4844-4a7f-d0ab-21277cad49e7"
      },
      "outputs": [
        {
          "output_type": "stream",
          "name": "stdout",
          "text": [
            "The message is authentic: b'I love Security'\n"
          ]
        }
      ],
      "source": [
        "try:\n",
        "    decipher.verify(tag)\n",
        "    print(\"The message is authentic:\", plaintext)\n",
        "except ValueError:\n",
        "    print(\"Key incorrect or message corrupted\")"
      ]
    }
  ],
  "metadata": {
    "kernelspec": {
      "display_name": "Python 3",
      "language": "python",
      "name": "python3"
    },
    "language_info": {
      "codemirror_mode": {
        "name": "ipython",
        "version": 3
      },
      "file_extension": ".py",
      "mimetype": "text/x-python",
      "name": "python",
      "nbconvert_exporter": "python",
      "pygments_lexer": "ipython3",
      "version": "3.8.0"
    },
    "orig_nbformat": 4,
    "colab": {
      "provenance": []
    }
  },
  "nbformat": 4,
  "nbformat_minor": 0
}