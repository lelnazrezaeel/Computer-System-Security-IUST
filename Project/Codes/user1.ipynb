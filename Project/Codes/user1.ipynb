{
  "nbformat": 4,
  "nbformat_minor": 0,
  "metadata": {
    "colab": {
      "provenance": [],
      "gpuType": "T4"
    },
    "kernelspec": {
      "name": "python3",
      "display_name": "Python 3"
    },
    "language_info": {
      "name": "python"
    },
    "accelerator": "GPU"
  },
  "cells": [
    {
      "cell_type": "markdown",
      "source": [
        "<h2>\n",
        "<font color=\"#e0a899\">Import Requirements</font>\n",
        "</h2>"
      ],
      "metadata": {
        "id": "2KEMfPuQOCmy"
      }
    },
    {
      "cell_type": "code",
      "execution_count": 11,
      "metadata": {
        "id": "XYiJk4ByN4Iv"
      },
      "outputs": [],
      "source": [
        "import random\n",
        "from math import pow"
      ]
    },
    {
      "cell_type": "code",
      "source": [
        "a = random.randint(2, 10)"
      ],
      "metadata": {
        "id": "1vUpd7TBOsro"
      },
      "execution_count": 12,
      "outputs": []
    },
    {
      "cell_type": "markdown",
      "source": [
        "<h2>\n",
        "<font color=\"#e0a899\">Recursive GCD Calculation using Euclidean Algorithm</font>\n",
        "</h2>"
      ],
      "metadata": {
        "id": "HR77DNukO8ia"
      }
    },
    {
      "cell_type": "code",
      "source": [
        "def gcd(a, b):\n",
        "    if a < b:\n",
        "        return gcd(b, a)\n",
        "    elif a % b == 0:\n",
        "        return b;\n",
        "    else:\n",
        "        return gcd(b, a % b)"
      ],
      "metadata": {
        "id": "J6rZRN6AO7O_"
      },
      "execution_count": 13,
      "outputs": []
    },
    {
      "cell_type": "markdown",
      "source": [
        "<h2>\n",
        "<font color=\"#e0a899\">Random Key Generation for Cryptographic Applications</font>\n",
        "</h2>"
      ],
      "metadata": {
        "id": "-mDcJSEYPOf2"
      }
    },
    {
      "cell_type": "code",
      "source": [
        "def gen_key(q):\n",
        "    key = random.randint(pow(10, 20), q)\n",
        "    while gcd(q, key) != 1:\n",
        "        key = random.randint(pow(10, 20), q)\n",
        "    return key"
      ],
      "metadata": {
        "id": "-b0SIKECPZBj"
      },
      "execution_count": 14,
      "outputs": []
    },
    {
      "cell_type": "markdown",
      "source": [
        "<h2>\n",
        "<font color=\"#e0a899\">Exponentiation using Binary Exponentiation Algorithm</font>\n",
        "</h2>"
      ],
      "metadata": {
        "id": "edUZr49SPhpV"
      }
    },
    {
      "cell_type": "code",
      "source": [
        "def power(a, b, c):\n",
        "    x = 1\n",
        "    y = a\n",
        "    while b > 0:\n",
        "        if b % 2 == 0:\n",
        "            x = (x * y) % c;\n",
        "        y = (y * y) % c\n",
        "        b = int(b / 2)\n",
        "    return x % c"
      ],
      "metadata": {
        "id": "4pEsbxaaPrkn"
      },
      "execution_count": 15,
      "outputs": []
    },
    {
      "cell_type": "markdown",
      "source": [
        "<h2>\n",
        "<font color=\"#e0a899\">Encryption Function for Secure Message Transmission</font>\n",
        "</h2>"
      ],
      "metadata": {
        "id": "Vn5fCaZEPwDa"
      }
    },
    {
      "cell_type": "code",
      "source": [
        "def encrypt(message, q, h, g):\n",
        "    encrypted_message = []\n",
        "    k = gen_key(q)\n",
        "    s = power(h, k, q)\n",
        "    p = power(g, k, q)\n",
        "    for i in range(0, len(message)):\n",
        "        encrypted_message.append(message[i])\n",
        "    for i in range(0, len(encrypted_message)):\n",
        "        encrypted_message[i] = s * ord(encrypted_message[i])\n",
        "    return encrypted_message, p"
      ],
      "metadata": {
        "id": "FrM1wLy1P698"
      },
      "execution_count": 16,
      "outputs": []
    },
    {
      "cell_type": "markdown",
      "source": [
        "<h2>\n",
        "<font color=\"#e0a899\">Decryption Function for Secure Message Retrieval</font>\n",
        "</h2>"
      ],
      "metadata": {
        "id": "VAZJnyISQCE9"
      }
    },
    {
      "cell_type": "code",
      "source": [
        "def decrypt(encrypted_message, p, key, q):\n",
        "    decrypted_message = []\n",
        "    h = power(p, key, q)\n",
        "    for i in range(0, len(encrypted_message)):\n",
        "        decrypted_message.append(chr(int(encrypted_message[i]/h)))\n",
        "    return decrypted_message"
      ],
      "metadata": {
        "id": "QpMPiUDWRhK1"
      },
      "execution_count": 17,
      "outputs": []
    },
    {
      "cell_type": "markdown",
      "source": [
        "<h2>\n",
        "<font color=\"#e0a899\">Main</font>\n",
        "</h2>"
      ],
      "metadata": {
        "id": "vLuFO1UdRlYw"
      }
    },
    {
      "cell_type": "code",
      "source": [
        "def main():\n",
        "    q = random.randint(pow(10, 20), pow(10, 50))\n",
        "    g = random.randint(2, q)\n",
        "    key = gen_key(q)\n",
        "    h = power(g, key, q)\n",
        "    print(\"user g : \", g)\n",
        "    print(\"user h : \", h)\n",
        "    print(\"user q : \", q)\n",
        "    print(\"________________________________________________\")\n",
        "    other_g=int(input(\"enter other side g:\"))\n",
        "    other_h=int(input(\"enter other side h:\"))\n",
        "    other_q=int(input(\"enter other side q:\"))\n",
        "    a=\"initial\"\n",
        "    while(a !=\"exit\"):\n",
        "        a = input(\"**********************************\\nThis Is User 1 \\nsend message : 1 \\ndecode recived message : 2 \\nexit : exit \\n\")\n",
        "        if(a=='1'):\n",
        "            message=input(\"enter message:\")\n",
        "            encrypted_message, p = encrypt(message, other_q, other_h, other_g)\n",
        "            print(\"encrypted message :\"+str(encrypted_message)+\"\\n\"+\"p:\"+str(p)+\"\\n\")\n",
        "        elif(a=='2'):\n",
        "            message=input(\"enter encrypted message:\")\n",
        "            message = message.strip('][').split(',')\n",
        "            for i in range(len(message)):\n",
        "                message[i]=int(message[i])\n",
        "            p=int(input(\"enter p :\"))\n",
        "            decrypted_message = decrypt(message, p, key, q)\n",
        "            dmsg = ''.join(decrypted_message)\n",
        "            print(\"decrypted message :\", dmsg);\n",
        "        elif(a!=\"exit\"):\n",
        "            print(\"wrong input!\")"
      ],
      "metadata": {
        "id": "Z_PRnDF_RqVA"
      },
      "execution_count": 18,
      "outputs": []
    },
    {
      "cell_type": "code",
      "source": [
        "if __name__ == '__main__':\n",
        "    main()"
      ],
      "metadata": {
        "colab": {
          "base_uri": "https://localhost:8080/"
        },
        "id": "J43o7KX_R5gY",
        "outputId": "02b54d9a-05bb-4855-9dae-0583c1a03ece"
      },
      "execution_count": 19,
      "outputs": [
        {
          "name": "stdout",
          "output_type": "stream",
          "text": [
            "user g :  3881959337009959981616776175047368494415262458792\n",
            "user h :  26323768353627080346467607727094302133939678563158\n",
            "user q :  46291570005684326672013159250325355877869966167535\n",
            "________________________________________________\n",
            "enter other side g:10944618831457522404619698215543428491155243251204\n",
            "enter other side h:11641193382331302739206522036202284842425665761366\n",
            "enter other side q:12034357969161470389726962890108575975628483417077\n",
            "**********************************\n",
            "This Is User 1 \n",
            "send message : 1 \n",
            "decode recived message : 2 \n",
            "exit : exit \n",
            "2\n",
            "enter encrypted message:[3610718105526064578764516067209141120188112556086937, 4393765405519668945243567744435219917337341785117839, 4306760149964824015634784224743433384320760759669961, 5089807449958428382113835901969512181469989988700863, 4959299566626160987700660622431832381945118450529046, 4567775916629358804461134783818792983370503836013595, 5046304822181005917309444142123618914961699475976924, 5263817961068118241331402941353085247503152039596619, 1392084088877518873740536315068584528265296407166048, 2131628761093700775415196232448770058906235123473011, 2262136644425968169828371511986449858431106661644828, 2088126133316278310610804472602876792397944610749072, 2175131388871123240219587992294663325414525636196950]\n",
            "enter p :30813380532034339381752520348358849387940329235189\n",
            "decrypted message : Security 1402\n",
            "**********************************\n",
            "This Is User 1 \n",
            "send message : 1 \n",
            "decode recived message : 2 \n",
            "exit : exit \n",
            "exit\n"
          ]
        }
      ]
    }
  ]
}